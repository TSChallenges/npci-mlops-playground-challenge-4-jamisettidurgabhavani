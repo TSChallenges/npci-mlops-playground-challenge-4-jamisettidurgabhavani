{
 "cells": [
  {
   "cell_type": "markdown",
   "metadata": {
    "id": "o8oWcD6sruUs"
   },
   "source": [
    "# NPCI MLOps Playground Challenge - 4 \n",
    "\n",
    "[Total: 20 Marks]"
   ]
  },
  {
   "cell_type": "markdown",
   "metadata": {
    "id": "1RodUx5nscY1"
   },
   "source": [
    "## Problem Statement \n",
    "\n",
    "Develop a machine learning model that predicts the likelihood of a borrower defaulting on a loan based on factors such as credit history, repayment capacity, and annual income. This model aims to assist financial institutions in assessing the potential financial impact of credit risk and making informed lending decisions."
   ]
  },
  {
   "cell_type": "markdown",
   "metadata": {
    "id": "BydFYr4d-ZZY"
   },
   "source": [
    "## Credit Risk Prediction\n",
    "\n",
    "Credit Risk refers to the likelihood of a borrower failing to repay a loan, leading to potential financial losses for the lender. When financial institutions extend services like mortgages, credit cards, or personal loans, there exists an inherent risk that the borrower may default on their repayment obligations. To evaluate this risk, factors like credit history, repayment capacity, loan terms, and annual income can be considered.\n",
    "\n",
    "Many companies, especially financial institutions, evaluate the credit risk of their existing and forthcoming customers. With the advent of technologies like machine learning, organizations can analyze customer data to establish a risk profile. Credit risk modeling evaluates a borrower's credit risk based primarily on two factors. The first factor is determining the probability of a borrower defaulting on a loan, while the second factor involves evaluating the financial impact on the lender in case of such a default.\n",
    "\n"
   ]
  },
  {
   "cell_type": "markdown",
   "metadata": {
    "id": "G09nMTuT0C5O"
   },
   "source": [
    "## Dataset Description\n",
    "\n",
    "The dataset you'll be working with is the Credit Risk dataset, which includes the following features:\n",
    "\n",
    "* **person_age** - Age\n",
    "* **person_income** - Annual Income\n",
    "* **person_home_ownership** - Home ownership\n",
    "* **person_emp_length** - Employment length (in years)\n",
    "* **loan_intent** - Loan intent\n",
    "* **loan_grade** - Loan grade\n",
    "* **loan_amnt** - Loan amount\n",
    "* **loan_int_rate** - Interest rate\n",
    "* **loan_status** - Loan status (0 is non default 1 is default)\n",
    "* **loan_percent_income** - Percent income\n",
    "* **cb_person_default_on_file** - Historical default\n",
    "* **cb_preson_cred_hist_length** - Credit history length\n"
   ]
  },
  {
   "cell_type": "markdown",
   "metadata": {
    "id": "AUs6CBWi0um5"
   },
   "source": [
    "### Importing required packages  [1 Mark]\n"
   ]
  },
  {
   "cell_type": "code",
   "execution_count": 11,
   "metadata": {
    "id": "0Ua1j5P97nDi"
   },
   "outputs": [],
   "source": [
    "import numpy as np\n",
    "import pandas as pd\n",
    "import matplotlib.pyplot as plt\n",
    "import seaborn as sns\n",
    "import sklearn"
   ]
  },
  {
   "cell_type": "markdown",
   "metadata": {
    "id": "yIYAZEeF7aQo"
   },
   "source": [
    "### Loading the data  [1 Mark]"
   ]
  },
  {
   "cell_type": "code",
   "execution_count": null,
   "metadata": {
    "id": "5g-3iZWf79ei"
   },
   "outputs": [],
   "source": [
    "# First upload the provided `credit_risk_dataset.csv` then load it as pandas dataframe\n",
    "# ToDo\n",
    "df = pd.read_csv('credit_risk_dataset.csv')"
   ]
  },
  {
   "cell_type": "code",
   "execution_count": 9,
   "metadata": {},
   "outputs": [
    {
     "name": "stdout",
     "output_type": "stream",
     "text": [
      "<class 'pandas.core.frame.DataFrame'>\n",
      "RangeIndex: 32581 entries, 0 to 32580\n",
      "Data columns (total 12 columns):\n",
      " #   Column                      Non-Null Count  Dtype  \n",
      "---  ------                      --------------  -----  \n",
      " 0   person_age                  32581 non-null  int64  \n",
      " 1   person_income               32581 non-null  int64  \n",
      " 2   person_home_ownership       32581 non-null  object \n",
      " 3   person_emp_length           31686 non-null  float64\n",
      " 4   loan_intent                 32581 non-null  object \n",
      " 5   loan_grade                  32581 non-null  object \n",
      " 6   loan_amnt                   32581 non-null  int64  \n",
      " 7   loan_int_rate               29465 non-null  float64\n",
      " 8   loan_status                 32581 non-null  int64  \n",
      " 9   loan_percent_income         32581 non-null  float64\n",
      " 10  cb_person_default_on_file   32581 non-null  object \n",
      " 11  cb_person_cred_hist_length  32581 non-null  int64  \n",
      "dtypes: float64(3), int64(5), object(4)\n",
      "memory usage: 3.0+ MB\n",
      "None\n"
     ]
    }
   ],
   "source": [
    "print(df.info())"
   ]
  },
  {
   "cell_type": "code",
   "execution_count": 10,
   "metadata": {},
   "outputs": [
    {
     "name": "stdout",
     "output_type": "stream",
     "text": [
      "         person_age  person_income  person_emp_length     loan_amnt  \\\n",
      "count  32581.000000   3.258100e+04       31686.000000  32581.000000   \n",
      "mean      27.734600   6.607485e+04           4.789686   9589.371106   \n",
      "std        6.348078   6.198312e+04           4.142630   6322.086646   \n",
      "min       20.000000   4.000000e+03           0.000000    500.000000   \n",
      "25%       23.000000   3.850000e+04           2.000000   5000.000000   \n",
      "50%       26.000000   5.500000e+04           4.000000   8000.000000   \n",
      "75%       30.000000   7.920000e+04           7.000000  12200.000000   \n",
      "max      144.000000   6.000000e+06         123.000000  35000.000000   \n",
      "\n",
      "       loan_int_rate   loan_status  loan_percent_income  \\\n",
      "count   29465.000000  32581.000000         32581.000000   \n",
      "mean       11.011695      0.218164             0.170203   \n",
      "std         3.240459      0.413006             0.106782   \n",
      "min         5.420000      0.000000             0.000000   \n",
      "25%         7.900000      0.000000             0.090000   \n",
      "50%        10.990000      0.000000             0.150000   \n",
      "75%        13.470000      0.000000             0.230000   \n",
      "max        23.220000      1.000000             0.830000   \n",
      "\n",
      "       cb_person_cred_hist_length  \n",
      "count                32581.000000  \n",
      "mean                     5.804211  \n",
      "std                      4.055001  \n",
      "min                      2.000000  \n",
      "25%                      3.000000  \n",
      "50%                      4.000000  \n",
      "75%                      8.000000  \n",
      "max                     30.000000  \n"
     ]
    }
   ],
   "source": [
    "print(df.describe())"
   ]
  },
  {
   "cell_type": "code",
   "execution_count": 12,
   "metadata": {},
   "outputs": [
    {
     "data": {
      "text/html": [
       "<div>\n",
       "<style scoped>\n",
       "    .dataframe tbody tr th:only-of-type {\n",
       "        vertical-align: middle;\n",
       "    }\n",
       "\n",
       "    .dataframe tbody tr th {\n",
       "        vertical-align: top;\n",
       "    }\n",
       "\n",
       "    .dataframe thead th {\n",
       "        text-align: right;\n",
       "    }\n",
       "</style>\n",
       "<table border=\"1\" class=\"dataframe\">\n",
       "  <thead>\n",
       "    <tr style=\"text-align: right;\">\n",
       "      <th></th>\n",
       "      <th>person_age</th>\n",
       "      <th>person_income</th>\n",
       "      <th>person_home_ownership</th>\n",
       "      <th>person_emp_length</th>\n",
       "      <th>loan_intent</th>\n",
       "      <th>loan_grade</th>\n",
       "      <th>loan_amnt</th>\n",
       "      <th>loan_int_rate</th>\n",
       "      <th>loan_status</th>\n",
       "      <th>loan_percent_income</th>\n",
       "      <th>cb_person_default_on_file</th>\n",
       "      <th>cb_person_cred_hist_length</th>\n",
       "    </tr>\n",
       "  </thead>\n",
       "  <tbody>\n",
       "    <tr>\n",
       "      <th>0</th>\n",
       "      <td>22</td>\n",
       "      <td>59000</td>\n",
       "      <td>RENT</td>\n",
       "      <td>123.0</td>\n",
       "      <td>PERSONAL</td>\n",
       "      <td>D</td>\n",
       "      <td>35000</td>\n",
       "      <td>16.02</td>\n",
       "      <td>1</td>\n",
       "      <td>0.59</td>\n",
       "      <td>Y</td>\n",
       "      <td>3</td>\n",
       "    </tr>\n",
       "    <tr>\n",
       "      <th>1</th>\n",
       "      <td>21</td>\n",
       "      <td>9600</td>\n",
       "      <td>OWN</td>\n",
       "      <td>5.0</td>\n",
       "      <td>EDUCATION</td>\n",
       "      <td>B</td>\n",
       "      <td>1000</td>\n",
       "      <td>11.14</td>\n",
       "      <td>0</td>\n",
       "      <td>0.10</td>\n",
       "      <td>N</td>\n",
       "      <td>2</td>\n",
       "    </tr>\n",
       "    <tr>\n",
       "      <th>2</th>\n",
       "      <td>25</td>\n",
       "      <td>9600</td>\n",
       "      <td>MORTGAGE</td>\n",
       "      <td>1.0</td>\n",
       "      <td>MEDICAL</td>\n",
       "      <td>C</td>\n",
       "      <td>5500</td>\n",
       "      <td>12.87</td>\n",
       "      <td>1</td>\n",
       "      <td>0.57</td>\n",
       "      <td>N</td>\n",
       "      <td>3</td>\n",
       "    </tr>\n",
       "    <tr>\n",
       "      <th>3</th>\n",
       "      <td>23</td>\n",
       "      <td>65500</td>\n",
       "      <td>RENT</td>\n",
       "      <td>4.0</td>\n",
       "      <td>MEDICAL</td>\n",
       "      <td>C</td>\n",
       "      <td>35000</td>\n",
       "      <td>15.23</td>\n",
       "      <td>1</td>\n",
       "      <td>0.53</td>\n",
       "      <td>N</td>\n",
       "      <td>2</td>\n",
       "    </tr>\n",
       "    <tr>\n",
       "      <th>4</th>\n",
       "      <td>24</td>\n",
       "      <td>54400</td>\n",
       "      <td>RENT</td>\n",
       "      <td>8.0</td>\n",
       "      <td>MEDICAL</td>\n",
       "      <td>C</td>\n",
       "      <td>35000</td>\n",
       "      <td>14.27</td>\n",
       "      <td>1</td>\n",
       "      <td>0.55</td>\n",
       "      <td>Y</td>\n",
       "      <td>4</td>\n",
       "    </tr>\n",
       "  </tbody>\n",
       "</table>\n",
       "</div>"
      ],
      "text/plain": [
       "   person_age  person_income person_home_ownership  person_emp_length  \\\n",
       "0          22          59000                  RENT              123.0   \n",
       "1          21           9600                   OWN                5.0   \n",
       "2          25           9600              MORTGAGE                1.0   \n",
       "3          23          65500                  RENT                4.0   \n",
       "4          24          54400                  RENT                8.0   \n",
       "\n",
       "  loan_intent loan_grade  loan_amnt  loan_int_rate  loan_status  \\\n",
       "0    PERSONAL          D      35000          16.02            1   \n",
       "1   EDUCATION          B       1000          11.14            0   \n",
       "2     MEDICAL          C       5500          12.87            1   \n",
       "3     MEDICAL          C      35000          15.23            1   \n",
       "4     MEDICAL          C      35000          14.27            1   \n",
       "\n",
       "   loan_percent_income cb_person_default_on_file  cb_person_cred_hist_length  \n",
       "0                 0.59                         Y                           3  \n",
       "1                 0.10                         N                           2  \n",
       "2                 0.57                         N                           3  \n",
       "3                 0.53                         N                           2  \n",
       "4                 0.55                         Y                           4  "
      ]
     },
     "execution_count": 12,
     "metadata": {},
     "output_type": "execute_result"
    }
   ],
   "source": [
    "df.head()"
   ]
  },
  {
   "cell_type": "markdown",
   "metadata": {
    "id": "hUJOesoM-ZYg"
   },
   "source": [
    "### EDA [2 Marks] \n",
    "\n",
    "Explore the data, understand the features and handle the missing values."
   ]
  },
  {
   "cell_type": "code",
   "execution_count": null,
   "metadata": {
    "id": "s9cYFWwN7ZYu"
   },
   "outputs": [],
   "source": [
    "# Get the shape of the dataframe\n",
    "# ToDo"
   ]
  },
  {
   "cell_type": "code",
   "execution_count": null,
   "metadata": {
    "id": "5BEmlWRL8Vad"
   },
   "outputs": [],
   "source": [
    "# Display few rows of the dataframe\n",
    "# ToDo"
   ]
  },
  {
   "cell_type": "code",
   "execution_count": null,
   "metadata": {
    "id": "2vA5UhTG8YEa"
   },
   "outputs": [],
   "source": [
    "# Generate descriptive statistics for the DataFrame, to get summary statistics for numerical columns.\n",
    "# ToDo"
   ]
  },
  {
   "cell_type": "code",
   "execution_count": null,
   "metadata": {
    "id": "3VApgDn28h0u"
   },
   "outputs": [],
   "source": [
    "# Generate information about the DataFrame, including index details, column data types, and non-null values.\n",
    "# ToDo"
   ]
  },
  {
   "cell_type": "markdown",
   "metadata": {
    "id": "h2K7-WqNCzT3"
   },
   "source": [
    "### Data Preprocessing"
   ]
  },
  {
   "cell_type": "markdown",
   "metadata": {
    "id": "8k8WmqIBBEui"
   },
   "source": [
    "#### Handling Missing values  [1 Mark]"
   ]
  },
  {
   "cell_type": "code",
   "execution_count": null,
   "metadata": {
    "id": "9yindfUN8i50"
   },
   "outputs": [],
   "source": [
    "# Display the total number of null values of each column\n",
    "# ToDo"
   ]
  },
  {
   "cell_type": "markdown",
   "metadata": {
    "id": "hE4Cf73ABedq"
   },
   "source": [
    "Columns **person_emp_length** and **loan_int_rate** have null values.\n",
    "Handle them by replacing the missing values with the mean of the respective columns.\n"
   ]
  },
  {
   "cell_type": "code",
   "execution_count": null,
   "metadata": {
    "id": "0U4rQoKo8l9L"
   },
   "outputs": [],
   "source": [
    "# Handle missing values - replace the missing values with the mean value of that numerical feature\n",
    "# ToDo"
   ]
  },
  {
   "cell_type": "markdown",
   "metadata": {
    "id": "TcY-K5XwC6Hn"
   },
   "source": [
    "#### Handling categorical columns [3 Marks]"
   ]
  },
  {
   "cell_type": "code",
   "execution_count": 1,
   "metadata": {
    "id": "BByZ-fJg_AHt"
   },
   "outputs": [],
   "source": [
    "# Check for categorical columns\n",
    "# ToDo"
   ]
  },
  {
   "cell_type": "code",
   "execution_count": null,
   "metadata": {
    "id": "O6YVzrJuAGRX"
   },
   "outputs": [],
   "source": [
    "# Get the distinct categories present in each categorical column\n",
    "# ToDo"
   ]
  },
  {
   "cell_type": "code",
   "execution_count": null,
   "metadata": {
    "id": "Nvb41TFsAW5b"
   },
   "outputs": [],
   "source": [
    "# Create dictionaries to map categorical values to numbers. OR Use LabelEncoder\n",
    "# ToDo"
   ]
  },
  {
   "cell_type": "code",
   "execution_count": null,
   "metadata": {
    "id": "nIOyUcffA4XC"
   },
   "outputs": [],
   "source": [
    "# Map categorical values to numbers using respective dictionaries\n",
    "# ToDo"
   ]
  },
  {
   "cell_type": "code",
   "execution_count": null,
   "metadata": {
    "id": "9HYik6UPBgHI"
   },
   "outputs": [],
   "source": [
    "# Display the data to observe the changes\n",
    "# ToDo"
   ]
  },
  {
   "cell_type": "markdown",
   "metadata": {
    "id": "Pxq2288LT3_E"
   },
   "source": [
    "#### Get/Visualize the count of each classes(defaulter or Not) to understand class distribution [1 Mark]"
   ]
  },
  {
   "cell_type": "code",
   "execution_count": null,
   "metadata": {
    "id": "o14ic3R9Z4Dk"
   },
   "outputs": [],
   "source": [
    "# Calculate the class distribution\n",
    "# ToDo\n",
    "\n",
    "# Create a bar plot\n",
    "# ToDo"
   ]
  },
  {
   "cell_type": "markdown",
   "metadata": {
    "id": "7OmR27SC7_di"
   },
   "source": [
    "### Define target variable and features [1 Mark]"
   ]
  },
  {
   "cell_type": "code",
   "execution_count": null,
   "metadata": {
    "id": "AX0kqWU08Bm3"
   },
   "outputs": [],
   "source": [
    "# Define features(X) and target variable(y)\n",
    "# ToDo"
   ]
  },
  {
   "cell_type": "markdown",
   "metadata": {
    "id": "8Df4y8Wa8fcx"
   },
   "source": [
    "### Train-Test split [1 Mark]"
   ]
  },
  {
   "cell_type": "code",
   "execution_count": null,
   "metadata": {
    "id": "BIP5W83aB7qz"
   },
   "outputs": [],
   "source": [
    "# Split the data into training and testing sets\n",
    "# Use `stratify` parameter to maintain the class distribution across the training and testing set\n",
    "# ToDo"
   ]
  },
  {
   "cell_type": "markdown",
   "metadata": {
    "id": "p6PeLYH69Ivl"
   },
   "source": [
    "### Check the class distribution in the training and test sets [1 Mark]\n",
    "\n",
    "Ensure that both sets have same target class distribution as of the original dataset"
   ]
  },
  {
   "cell_type": "code",
   "execution_count": null,
   "metadata": {
    "id": "PnY1x6wdCN9v"
   },
   "outputs": [],
   "source": [
    "# Calculate the class distribution in the training set\n",
    "# ToDo"
   ]
  },
  {
   "cell_type": "code",
   "execution_count": null,
   "metadata": {
    "id": "DODNmauICRhN"
   },
   "outputs": [],
   "source": [
    "# Calculate the class distribution in the testing set\n",
    "# ToDo"
   ]
  },
  {
   "cell_type": "markdown",
   "metadata": {
    "id": "KzftGwgyuoPZ"
   },
   "source": [
    "### Feature Scaling [1 Mark]"
   ]
  },
  {
   "cell_type": "code",
   "execution_count": null,
   "metadata": {
    "id": "5makQDOYuoCX"
   },
   "outputs": [],
   "source": [
    "# Initialize StandardScaler and transform the training and testing features\n",
    "# ToDo"
   ]
  },
  {
   "cell_type": "markdown",
   "metadata": {
    "id": "2k_LCpMC-sTm"
   },
   "source": [
    "### Model Training [3 Mars]\n"
   ]
  },
  {
   "cell_type": "code",
   "execution_count": null,
   "metadata": {
    "id": "C7eaY7xoCfpV"
   },
   "outputs": [],
   "source": [
    "# Initialize the LogisticRegression model\n",
    "# ToDo\n",
    "\n",
    "# Fit the model with the SCALED training data\n",
    "# ToDo"
   ]
  },
  {
   "cell_type": "code",
   "execution_count": null,
   "metadata": {
    "id": "fpTthZaNu8Dp"
   },
   "outputs": [],
   "source": [
    "# Initialize the DecisionTreeClassifier model\n",
    "# ToDo\n",
    "\n",
    "# Fit the model with the unscaled training data (Feature Scaling is not necessary for Tree based models)\n",
    "# ToDo"
   ]
  },
  {
   "cell_type": "code",
   "execution_count": null,
   "metadata": {
    "id": "_1mJckLsvALF"
   },
   "outputs": [],
   "source": [
    "# Initialize the RandomForestClassifier model\n",
    "# ToDo\n",
    "\n",
    "# Fit the model with the unscaled training data (Feature Scaling is not necessary for Tree based models)\n",
    "# ToDo"
   ]
  },
  {
   "cell_type": "markdown",
   "metadata": {
    "id": "x66q1eeVFrsQ"
   },
   "source": [
    "### Model Evaluation [2 Marks]\n"
   ]
  },
  {
   "cell_type": "code",
   "execution_count": null,
   "metadata": {
    "id": "Duog9F4ECgrG"
   },
   "outputs": [],
   "source": [
    "# Make predictions on the test set with each of the models above\n",
    "# ToDo"
   ]
  },
  {
   "cell_type": "code",
   "execution_count": null,
   "metadata": {
    "id": "mxjh0PjJDEw4"
   },
   "outputs": [],
   "source": [
    "# Evaluate each of the model performance\n",
    "\n",
    "# Show accuracy, f1 score, precision, & recall for each of the trained models\n",
    "# ToDo"
   ]
  },
  {
   "cell_type": "markdown",
   "metadata": {
    "id": "GjbKstBjGhQ7"
   },
   "source": [
    "### Inference [2 Marks]"
   ]
  },
  {
   "cell_type": "code",
   "execution_count": null,
   "metadata": {
    "id": "7DqGpE39C-nC"
   },
   "outputs": [],
   "source": [
    "# Create a sample input dictionary with keys as feature names and values as feature values\n",
    "# ToDo\n",
    "\n",
    "# Convert the sample input dictionary into a dataframe to feed to the model\n",
    "# ToDo"
   ]
  },
  {
   "cell_type": "code",
   "execution_count": null,
   "metadata": {
    "id": "ALyXuoeFD6_2"
   },
   "outputs": [],
   "source": [
    "# Define a simple fuction to make prediction for the sample input (use the best model among the above trained models)\n",
    "# ToDo"
   ]
  },
  {
   "cell_type": "code",
   "execution_count": null,
   "metadata": {
    "id": "SQ2PZh4YEVUb"
   },
   "outputs": [],
   "source": [
    "# Make prediction using the defined function using the sample input\n",
    "# ToDo"
   ]
  }
 ],
 "metadata": {
  "colab": {
   "provenance": []
  },
  "kernelspec": {
   "display_name": "Python 3",
   "name": "python3"
  },
  "language_info": {
   "codemirror_mode": {
    "name": "ipython",
    "version": 3
   },
   "file_extension": ".py",
   "mimetype": "text/x-python",
   "name": "python",
   "nbconvert_exporter": "python",
   "pygments_lexer": "ipython3",
   "version": "3.12.1"
  }
 },
 "nbformat": 4,
 "nbformat_minor": 0
}
